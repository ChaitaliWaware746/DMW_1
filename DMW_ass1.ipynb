{
  "nbformat": 4,
  "nbformat_minor": 0,
  "metadata": {
    "colab": {
      "provenance": []
    },
    "kernelspec": {
      "name": "python3",
      "display_name": "Python 3"
    },
    "language_info": {
      "name": "python"
    }
  },
  "cells": [
    {
      "cell_type": "code",
      "execution_count": null,
      "metadata": {
        "id": "810BBHHzW52b"
      },
      "outputs": [],
      "source": [
        "import numpy as np\n",
        "import pandas as pd\n",
        "\n",
        "data=[\n",
        "    {'ID':1,'Name':'Sahil','Age':28,'Gender':'M','Salary':30000},\n",
        "    {'ID':2,'Name':'Priya','Age':-3,'Gender':'Female','Salary':50000},\n",
        "    {'ID':1,'Name':'Sahil','Age':28,'Gender':'M','Salary':30000},\n",
        "    {'ID':3,'Name':'Nita','Age':45,'Gender':'f','Salary':40000},\n",
        "    {'ID':4,'Name':'Rahul','Age':None,'Gender':'male','Salary':60000},\n",
        "    {'ID':5,'Name':'Gaurav','Age':35,'Gender':'Male','Salary':None}\n",
        "]\n"
      ]
    },
    {
      "cell_type": "code",
      "source": [],
      "metadata": {
        "id": "P2doE2CF6FMC"
      },
      "execution_count": null,
      "outputs": []
    },
    {
      "cell_type": "code",
      "source": [
        "df=pd.DataFrame(data)\n",
        "print(df)\n"
      ],
      "metadata": {
        "colab": {
          "base_uri": "https://localhost:8080/"
        },
        "id": "FniD9HhUZ6hD",
        "outputId": "8129b7d1-696e-4bc4-87c7-66a1e25949a1"
      },
      "execution_count": null,
      "outputs": [
        {
          "output_type": "stream",
          "name": "stdout",
          "text": [
            "   ID    Name   Age  Gender   Salary\n",
            "0   1   Sahil  28.0       M  30000.0\n",
            "1   2   Priya  -3.0  Female  50000.0\n",
            "2   1   Sahil  28.0       M  30000.0\n",
            "3   3    Nita  45.0       f  40000.0\n",
            "4   4   Rahul   NaN    male  60000.0\n",
            "5   5  Gaurav  35.0    Male      NaN\n"
          ]
        }
      ]
    },
    {
      "cell_type": "code",
      "source": [
        "df.isnull().sum()\n"
      ],
      "metadata": {
        "colab": {
          "base_uri": "https://localhost:8080/",
          "height": 241
        },
        "id": "gqgqCKBMaIV7",
        "outputId": "3b6d84f8-9626-465b-c5b9-4af42b1cf666"
      },
      "execution_count": null,
      "outputs": [
        {
          "output_type": "execute_result",
          "data": {
            "text/plain": [
              "ID        0\n",
              "Name      0\n",
              "Age       1\n",
              "Gender    0\n",
              "Salary    1\n",
              "dtype: int64"
            ],
            "text/html": [
              "<div>\n",
              "<style scoped>\n",
              "    .dataframe tbody tr th:only-of-type {\n",
              "        vertical-align: middle;\n",
              "    }\n",
              "\n",
              "    .dataframe tbody tr th {\n",
              "        vertical-align: top;\n",
              "    }\n",
              "\n",
              "    .dataframe thead th {\n",
              "        text-align: right;\n",
              "    }\n",
              "</style>\n",
              "<table border=\"1\" class=\"dataframe\">\n",
              "  <thead>\n",
              "    <tr style=\"text-align: right;\">\n",
              "      <th></th>\n",
              "      <th>0</th>\n",
              "    </tr>\n",
              "  </thead>\n",
              "  <tbody>\n",
              "    <tr>\n",
              "      <th>ID</th>\n",
              "      <td>0</td>\n",
              "    </tr>\n",
              "    <tr>\n",
              "      <th>Name</th>\n",
              "      <td>0</td>\n",
              "    </tr>\n",
              "    <tr>\n",
              "      <th>Age</th>\n",
              "      <td>1</td>\n",
              "    </tr>\n",
              "    <tr>\n",
              "      <th>Gender</th>\n",
              "      <td>0</td>\n",
              "    </tr>\n",
              "    <tr>\n",
              "      <th>Salary</th>\n",
              "      <td>1</td>\n",
              "    </tr>\n",
              "  </tbody>\n",
              "</table>\n",
              "</div><br><label><b>dtype:</b> int64</label>"
            ]
          },
          "metadata": {},
          "execution_count": 4
        }
      ]
    },
    {
      "cell_type": "code",
      "source": [
        "print(df.dtypes)"
      ],
      "metadata": {
        "colab": {
          "base_uri": "https://localhost:8080/"
        },
        "id": "4B_foG9baNKx",
        "outputId": "05f289b4-a003-404c-81ca-e19a5697612e"
      },
      "execution_count": null,
      "outputs": [
        {
          "output_type": "stream",
          "name": "stdout",
          "text": [
            "ID          int64\n",
            "Name       object\n",
            "Age       float64\n",
            "Gender     object\n",
            "Salary    float64\n",
            "dtype: object\n"
          ]
        }
      ]
    },
    {
      "cell_type": "code",
      "source": [
        "df.duplicated().sum()"
      ],
      "metadata": {
        "colab": {
          "base_uri": "https://localhost:8080/"
        },
        "id": "3gHBqGUOgFy6",
        "outputId": "18c616a6-ce9d-457d-8486-9201c684585b"
      },
      "execution_count": null,
      "outputs": [
        {
          "output_type": "execute_result",
          "data": {
            "text/plain": [
              "np.int64(1)"
            ]
          },
          "metadata": {},
          "execution_count": 6
        }
      ]
    },
    {
      "cell_type": "code",
      "source": [
        "df.drop_duplicates(inplace=True)\n",
        "print(df)"
      ],
      "metadata": {
        "colab": {
          "base_uri": "https://localhost:8080/"
        },
        "id": "P8ykdIsEjMdC",
        "outputId": "420dbb86-ae13-48af-a0ce-f290fb546483"
      },
      "execution_count": null,
      "outputs": [
        {
          "output_type": "stream",
          "name": "stdout",
          "text": [
            "   ID    Name   Age  Gender   Salary\n",
            "0   1   Sahil  28.0       M  30000.0\n",
            "1   2   Priya  -3.0  Female  50000.0\n",
            "3   3    Nita  45.0       f  40000.0\n",
            "4   4   Rahul   NaN    male  60000.0\n",
            "5   5  Gaurav  35.0    Male      NaN\n"
          ]
        }
      ]
    },
    {
      "cell_type": "code",
      "source": [
        "df['Age']=df['Age'].apply(lambda x:np.nan if x<0 else x)\n",
        "print(df)"
      ],
      "metadata": {
        "colab": {
          "base_uri": "https://localhost:8080/"
        },
        "id": "tNxMHiJHkVFa",
        "outputId": "38a06098-86db-4645-b09a-3a8e794e08c5"
      },
      "execution_count": null,
      "outputs": [
        {
          "output_type": "stream",
          "name": "stdout",
          "text": [
            "   ID    Name   Age  Gender   Salary\n",
            "0   1   Sahil  28.0       M  30000.0\n",
            "1   2   Priya   NaN  Female  50000.0\n",
            "3   3    Nita  45.0       f  40000.0\n",
            "4   4   Rahul   NaN    male  60000.0\n",
            "5   5  Gaurav  35.0    Male      NaN\n"
          ]
        }
      ]
    },
    {
      "cell_type": "code",
      "source": [
        "df['Age']=df['Age'].fillna(df['Age'].mean())\n",
        "print(df)"
      ],
      "metadata": {
        "colab": {
          "base_uri": "https://localhost:8080/"
        },
        "id": "0S87wnGGcGdL",
        "outputId": "dbaa5441-3ebb-4b5c-b38f-4307bf1ae205"
      },
      "execution_count": null,
      "outputs": [
        {
          "output_type": "stream",
          "name": "stdout",
          "text": [
            "   ID    Name   Age  Gender   Salary\n",
            "0   1   Sahil  28.0       M  30000.0\n",
            "1   2   Priya  36.0  Female  50000.0\n",
            "3   3    Nita  45.0       f  40000.0\n",
            "4   4   Rahul  36.0    male  60000.0\n",
            "5   5  Gaurav  35.0    Male      NaN\n"
          ]
        }
      ]
    },
    {
      "cell_type": "code",
      "source": [
        "df['Salary']=df['Salary'].fillna(df['Salary'].mean())\n",
        "print(df)"
      ],
      "metadata": {
        "colab": {
          "base_uri": "https://localhost:8080/"
        },
        "id": "yoP3W3c1aU7x",
        "outputId": "ce8bbe93-d047-4f48-d9f9-845920dfa130"
      },
      "execution_count": null,
      "outputs": [
        {
          "output_type": "stream",
          "name": "stdout",
          "text": [
            "   ID    Name   Age  Gender   Salary\n",
            "0   1   Sahil  28.0       M  30000.0\n",
            "1   2   Priya  36.0  Female  50000.0\n",
            "3   3    Nita  45.0       f  40000.0\n",
            "4   4   Rahul  36.0    male  60000.0\n",
            "5   5  Gaurav  35.0    Male  45000.0\n"
          ]
        }
      ]
    },
    {
      "cell_type": "code",
      "source": [
        "df['Gender']=df['Gender'].replace({'Female':'F','Male':'M','f':'F','m':'M','male':'M'})\n",
        "print(df)"
      ],
      "metadata": {
        "colab": {
          "base_uri": "https://localhost:8080/"
        },
        "id": "Qi1-x30kgnBC",
        "outputId": "faa821a0-7079-4798-afb3-f8c6ba3f19f8"
      },
      "execution_count": null,
      "outputs": [
        {
          "output_type": "stream",
          "name": "stdout",
          "text": [
            "   ID    Name   Age Gender   Salary\n",
            "0   1   Sahil  28.0      M  30000.0\n",
            "1   2   Priya  36.0      F  50000.0\n",
            "3   3    Nita  45.0      F  40000.0\n",
            "4   4   Rahul  36.0      M  60000.0\n",
            "5   5  Gaurav  35.0      M  45000.0\n"
          ]
        }
      ]
    },
    {
      "cell_type": "code",
      "source": [],
      "metadata": {
        "id": "FdWl4X1cmYoZ"
      },
      "execution_count": null,
      "outputs": []
    },
    {
      "cell_type": "code",
      "source": [
        "#scaling\n",
        "from sklearn.preprocessing import MinMaxScaler\n",
        "\n",
        "scalar=MinMaxScaler()\n",
        "df['Age']=scalar.fit_transform(df[['Age']])\n",
        "df['Salary']=scalar.fit_transform(df[['Salary']])\n",
        "print(df)\n"
      ],
      "metadata": {
        "colab": {
          "base_uri": "https://localhost:8080/"
        },
        "id": "vO92kyW4mMfT",
        "outputId": "936fe8c6-6e91-48f5-ecb4-668cc4e31d6a"
      },
      "execution_count": null,
      "outputs": [
        {
          "output_type": "stream",
          "name": "stdout",
          "text": [
            "   ID    Name       Age Gender    Salary\n",
            "0   1   Sahil  0.000000      M  0.000000\n",
            "1   2   Priya  0.470588      F  0.666667\n",
            "3   3    Nita  1.000000      F  0.333333\n",
            "4   4   Rahul  0.470588      M  1.000000\n",
            "5   5  Gaurav  0.411765      M  0.500000\n"
          ]
        }
      ]
    },
    {
      "cell_type": "code",
      "source": [
        "df = pd.get_dummies(df, columns=['Gender'], prefix='Gender')\n",
        "\n",
        "print(\"\\nCleaned & Preprocessed Data:\\n\", df)"
      ],
      "metadata": {
        "colab": {
          "base_uri": "https://localhost:8080/"
        },
        "id": "ErmfBApx6Gc2",
        "outputId": "e639f644-f3cd-4367-d165-0e58dd820720"
      },
      "execution_count": null,
      "outputs": [
        {
          "output_type": "stream",
          "name": "stdout",
          "text": [
            "\n",
            "Cleaned & Preprocessed Data:\n",
            "    ID    Name       Age    Salary  Gender_F  Gender_M\n",
            "0   1   Sahil  0.000000  0.000000     False      True\n",
            "1   2   Priya  0.470588  0.666667      True     False\n",
            "3   3    Nita  1.000000  0.333333      True     False\n",
            "4   4   Rahul  0.470588  1.000000     False      True\n",
            "5   5  Gaurav  0.411765  0.500000     False      True\n"
          ]
        }
      ]
    }
  ]
}